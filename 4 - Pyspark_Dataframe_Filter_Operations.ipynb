{
 "cells": [
  {
   "cell_type": "markdown",
   "metadata": {},
   "source": [
    "* Filter Operation\n",
    "* &, |, ==\n",
    "* ~"
   ]
  },
  {
   "cell_type": "code",
   "execution_count": 1,
   "metadata": {},
   "outputs": [],
   "source": [
    "from pyspark.sql import SparkSession"
   ]
  },
  {
   "cell_type": "code",
   "execution_count": 2,
   "metadata": {},
   "outputs": [],
   "source": [
    "spark = SparkSession.builder.appName('app4').getOrCreate()"
   ]
  },
  {
   "cell_type": "code",
   "execution_count": 5,
   "metadata": {},
   "outputs": [],
   "source": [
    "df_spark = spark.read.csv('test1.csv', inferSchema=True, header=True)"
   ]
  },
  {
   "cell_type": "code",
   "execution_count": 6,
   "metadata": {},
   "outputs": [
    {
     "name": "stdout",
     "output_type": "stream",
     "text": [
      "+---------+---+----------+------+\n",
      "|     Name|age|experience|salary|\n",
      "+---------+---+----------+------+\n",
      "|    Krish| 31|        10| 30000|\n",
      "|Sudhanshu| 30|         8| 25000|\n",
      "|    Sunny| 29|         4| 20000|\n",
      "|    Ankit| 45|         3| 15000|\n",
      "|    Anand| 32|         2| 20000|\n",
      "| Karishma| 24|         5| 18000|\n",
      "+---------+---+----------+------+\n",
      "\n"
     ]
    }
   ],
   "source": [
    "df_spark.show()"
   ]
  },
  {
   "cell_type": "code",
   "execution_count": 7,
   "metadata": {},
   "outputs": [
    {
     "name": "stdout",
     "output_type": "stream",
     "text": [
      "+--------+---+----------+------+\n",
      "|    Name|age|experience|salary|\n",
      "+--------+---+----------+------+\n",
      "|   Sunny| 29|         4| 20000|\n",
      "|   Ankit| 45|         3| 15000|\n",
      "|   Anand| 32|         2| 20000|\n",
      "|Karishma| 24|         5| 18000|\n",
      "+--------+---+----------+------+\n",
      "\n"
     ]
    }
   ],
   "source": [
    "## Salry of people<=20000\n",
    "df_spark.filter(\"salary<=20000\").show()"
   ]
  },
  {
   "cell_type": "code",
   "execution_count": 8,
   "metadata": {},
   "outputs": [
    {
     "name": "stdout",
     "output_type": "stream",
     "text": [
      "+--------+---+\n",
      "|    Name|age|\n",
      "+--------+---+\n",
      "|   Sunny| 29|\n",
      "|   Ankit| 45|\n",
      "|   Anand| 32|\n",
      "|Karishma| 24|\n",
      "+--------+---+\n",
      "\n"
     ]
    }
   ],
   "source": [
    "df_spark.filter(\"salary<=20000\").select(['Name', 'age']).show()"
   ]
  },
  {
   "cell_type": "code",
   "execution_count": 10,
   "metadata": {},
   "outputs": [
    {
     "name": "stdout",
     "output_type": "stream",
     "text": [
      "+--------+---+----------+------+\n",
      "|    Name|age|experience|salary|\n",
      "+--------+---+----------+------+\n",
      "|   Sunny| 29|         4| 20000|\n",
      "|   Ankit| 45|         3| 15000|\n",
      "|   Anand| 32|         2| 20000|\n",
      "|Karishma| 24|         5| 18000|\n",
      "+--------+---+----------+------+\n",
      "\n"
     ]
    }
   ],
   "source": [
    "## Alternative approach\n",
    "df_spark.filter(df_spark['salary']<=20000).show()"
   ]
  },
  {
   "cell_type": "code",
   "execution_count": 11,
   "metadata": {},
   "outputs": [
    {
     "name": "stdout",
     "output_type": "stream",
     "text": [
      "+--------+---+----------+------+\n",
      "|    Name|age|experience|salary|\n",
      "+--------+---+----------+------+\n",
      "|   Sunny| 29|         4| 20000|\n",
      "|   Ankit| 45|         3| 15000|\n",
      "|   Anand| 32|         2| 20000|\n",
      "|Karishma| 24|         5| 18000|\n",
      "+--------+---+----------+------+\n",
      "\n"
     ]
    }
   ],
   "source": [
    "## multiple conditions\n",
    "df_spark.filter((df_spark['salary']<=20000) & \n",
    "                (df_spark['salary']>=15000)).show()"
   ]
  },
  {
   "cell_type": "code",
   "execution_count": 12,
   "metadata": {},
   "outputs": [
    {
     "name": "stdout",
     "output_type": "stream",
     "text": [
      "+---------+---+----------+------+\n",
      "|     Name|age|experience|salary|\n",
      "+---------+---+----------+------+\n",
      "|    Krish| 31|        10| 30000|\n",
      "|Sudhanshu| 30|         8| 25000|\n",
      "|    Sunny| 29|         4| 20000|\n",
      "|    Ankit| 45|         3| 15000|\n",
      "|    Anand| 32|         2| 20000|\n",
      "| Karishma| 24|         5| 18000|\n",
      "+---------+---+----------+------+\n",
      "\n"
     ]
    }
   ],
   "source": [
    "df_spark.filter((df_spark['salary']<=20000) | \n",
    "                (df_spark['salary']>=15000)).show()"
   ]
  },
  {
   "cell_type": "code",
   "execution_count": 13,
   "metadata": {},
   "outputs": [
    {
     "name": "stdout",
     "output_type": "stream",
     "text": [
      "+---------+---+----------+------+\n",
      "|     Name|age|experience|salary|\n",
      "+---------+---+----------+------+\n",
      "|    Krish| 31|        10| 30000|\n",
      "|Sudhanshu| 30|         8| 25000|\n",
      "+---------+---+----------+------+\n",
      "\n"
     ]
    }
   ],
   "source": [
    "## Not operation\n",
    "df_spark.filter(~(df_spark['salary']<=20000)).show()"
   ]
  },
  {
   "cell_type": "code",
   "execution_count": null,
   "metadata": {},
   "outputs": [],
   "source": []
  }
 ],
 "metadata": {
  "kernelspec": {
   "display_name": "Python3 (SparkEnv)",
   "language": "python",
   "name": "sparkenv"
  },
  "language_info": {
   "codemirror_mode": {
    "name": "ipython",
    "version": 3
   },
   "file_extension": ".py",
   "mimetype": "text/x-python",
   "name": "python",
   "nbconvert_exporter": "python",
   "pygments_lexer": "ipython3",
   "version": "3.8.5"
  }
 },
 "nbformat": 4,
 "nbformat_minor": 4
}
