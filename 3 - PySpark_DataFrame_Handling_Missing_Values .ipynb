{
 "cells": [
  {
   "cell_type": "markdown",
   "metadata": {},
   "source": [
    "* Dropping Columns\n",
    "* Dropping Rows\n",
    "* Various Parameter in Dropping Functionalities\n",
    "* Handling Missing Values by Mean, Median and Mode"
   ]
  },
  {
   "cell_type": "code",
   "execution_count": 1,
   "metadata": {},
   "outputs": [],
   "source": [
    "from pyspark.sql import SparkSession"
   ]
  },
  {
   "cell_type": "code",
   "execution_count": 2,
   "metadata": {},
   "outputs": [],
   "source": [
    "spark = SparkSession.builder.appName('app3').getOrCreate()"
   ]
  },
  {
   "cell_type": "code",
   "execution_count": 6,
   "metadata": {},
   "outputs": [],
   "source": [
    "df_spark = spark.read.csv('test2.csv', header=True, inferSchema=True)"
   ]
  },
  {
   "cell_type": "code",
   "execution_count": 7,
   "metadata": {},
   "outputs": [
    {
     "name": "stdout",
     "output_type": "stream",
     "text": [
      "+---------+----+----------+------+\n",
      "|     Name| age|experience|salary|\n",
      "+---------+----+----------+------+\n",
      "|    Krish|  31|        10| 30000|\n",
      "|Sudhanshu|  30|         8| 25000|\n",
      "|    Sunny|  29|         4| 20000|\n",
      "|    Ankit|  45|         3| 15000|\n",
      "|    Anand|  32|         2| 20000|\n",
      "| Karishma|  24|         5| 18000|\n",
      "|   Suresh|null|      null| 40000|\n",
      "|     null|  45|        10| 38000|\n",
      "|     null|  37|      null|  null|\n",
      "+---------+----+----------+------+\n",
      "\n"
     ]
    }
   ],
   "source": [
    "df_spark.show()"
   ]
  },
  {
   "cell_type": "code",
   "execution_count": 8,
   "metadata": {},
   "outputs": [
    {
     "name": "stdout",
     "output_type": "stream",
     "text": [
      "+----+----------+------+\n",
      "| age|experience|salary|\n",
      "+----+----------+------+\n",
      "|  31|        10| 30000|\n",
      "|  30|         8| 25000|\n",
      "|  29|         4| 20000|\n",
      "|  45|         3| 15000|\n",
      "|  32|         2| 20000|\n",
      "|  24|         5| 18000|\n",
      "|null|      null| 40000|\n",
      "|  45|        10| 38000|\n",
      "|  37|      null|  null|\n",
      "+----+----------+------+\n",
      "\n"
     ]
    }
   ],
   "source": [
    "## drop the column; Note: Not a inplace operation\n",
    "df_spark.drop('Name').show()"
   ]
  },
  {
   "cell_type": "code",
   "execution_count": 10,
   "metadata": {},
   "outputs": [
    {
     "name": "stdout",
     "output_type": "stream",
     "text": [
      "+---------+---+----------+------+\n",
      "|     Name|age|experience|salary|\n",
      "+---------+---+----------+------+\n",
      "|    Krish| 31|        10| 30000|\n",
      "|Sudhanshu| 30|         8| 25000|\n",
      "|    Sunny| 29|         4| 20000|\n",
      "|    Ankit| 45|         3| 15000|\n",
      "|    Anand| 32|         2| 20000|\n",
      "| Karishma| 24|         5| 18000|\n",
      "+---------+---+----------+------+\n",
      "\n"
     ]
    }
   ],
   "source": [
    "## drop rows\n",
    "df_spark.na.drop().show()  # drop all rows having any null values"
   ]
  },
  {
   "cell_type": "code",
   "execution_count": 11,
   "metadata": {},
   "outputs": [
    {
     "name": "stdout",
     "output_type": "stream",
     "text": [
      "+---------+----+----------+------+\n",
      "|     Name| age|experience|salary|\n",
      "+---------+----+----------+------+\n",
      "|    Krish|  31|        10| 30000|\n",
      "|Sudhanshu|  30|         8| 25000|\n",
      "|    Sunny|  29|         4| 20000|\n",
      "|    Ankit|  45|         3| 15000|\n",
      "|    Anand|  32|         2| 20000|\n",
      "| Karishma|  24|         5| 18000|\n",
      "|   Suresh|null|      null| 40000|\n",
      "|     null|  45|        10| 38000|\n",
      "|     null|  37|      null|  null|\n",
      "+---------+----+----------+------+\n",
      "\n"
     ]
    }
   ],
   "source": [
    "## how==all; drop only if all values in a row are null\n",
    "df_spark.na.drop(how='all').show()"
   ]
  },
  {
   "cell_type": "code",
   "execution_count": 16,
   "metadata": {},
   "outputs": [
    {
     "name": "stdout",
     "output_type": "stream",
     "text": [
      "+---------+----+----------+------+\n",
      "|     Name| age|experience|salary|\n",
      "+---------+----+----------+------+\n",
      "|    Krish|  31|        10| 30000|\n",
      "|Sudhanshu|  30|         8| 25000|\n",
      "|    Sunny|  29|         4| 20000|\n",
      "|    Ankit|  45|         3| 15000|\n",
      "|    Anand|  32|         2| 20000|\n",
      "| Karishma|  24|         5| 18000|\n",
      "|   Suresh|null|      null| 40000|\n",
      "|     null|  45|        10| 38000|\n",
      "+---------+----+----------+------+\n",
      "\n"
     ]
    }
   ],
   "source": [
    "## threshold\n",
    "df_spark.na.drop(thresh=2).show()  # Should have atleat 2 non null values"
   ]
  },
  {
   "cell_type": "code",
   "execution_count": 17,
   "metadata": {},
   "outputs": [
    {
     "name": "stdout",
     "output_type": "stream",
     "text": [
      "+---------+---+----------+------+\n",
      "|     Name|age|experience|salary|\n",
      "+---------+---+----------+------+\n",
      "|    Krish| 31|        10| 30000|\n",
      "|Sudhanshu| 30|         8| 25000|\n",
      "|    Sunny| 29|         4| 20000|\n",
      "|    Ankit| 45|         3| 15000|\n",
      "|    Anand| 32|         2| 20000|\n",
      "| Karishma| 24|         5| 18000|\n",
      "|     null| 45|        10| 38000|\n",
      "+---------+---+----------+------+\n",
      "\n"
     ]
    }
   ],
   "source": [
    "## threshold\n",
    "df_spark.na.drop(thresh=3).show()  # Should have atleat 3 non null values"
   ]
  },
  {
   "cell_type": "code",
   "execution_count": 18,
   "metadata": {},
   "outputs": [
    {
     "name": "stdout",
     "output_type": "stream",
     "text": [
      "+---------+----+----------+------+\n",
      "|     Name| age|experience|salary|\n",
      "+---------+----+----------+------+\n",
      "|    Krish|  31|        10| 30000|\n",
      "|Sudhanshu|  30|         8| 25000|\n",
      "|    Sunny|  29|         4| 20000|\n",
      "|    Ankit|  45|         3| 15000|\n",
      "|    Anand|  32|         2| 20000|\n",
      "| Karishma|  24|         5| 18000|\n",
      "|   Suresh|null|      null| 40000|\n",
      "|     null|  45|        10| 38000|\n",
      "+---------+----+----------+------+\n",
      "\n"
     ]
    }
   ],
   "source": [
    "## subset: Remove the rows that have null values in the specified column\n",
    "df_spark.na.drop(subset=['salary']).show() "
   ]
  },
  {
   "cell_type": "code",
   "execution_count": 19,
   "metadata": {},
   "outputs": [
    {
     "name": "stdout",
     "output_type": "stream",
     "text": [
      "+---------+---+----------+------+\n",
      "|     Name|age|experience|salary|\n",
      "+---------+---+----------+------+\n",
      "|    Krish| 31|        10| 30000|\n",
      "|Sudhanshu| 30|         8| 25000|\n",
      "|    Sunny| 29|         4| 20000|\n",
      "|    Ankit| 45|         3| 15000|\n",
      "|    Anand| 32|         2| 20000|\n",
      "| Karishma| 24|         5| 18000|\n",
      "|     null| 45|        10| 38000|\n",
      "+---------+---+----------+------+\n",
      "\n"
     ]
    }
   ],
   "source": [
    "df_spark.na.drop(subset=['experience']).show() "
   ]
  },
  {
   "cell_type": "code",
   "execution_count": 31,
   "metadata": {},
   "outputs": [
    {
     "name": "stdout",
     "output_type": "stream",
     "text": [
      "+---------+---+----------+------+\n",
      "|     Name|age|experience|salary|\n",
      "+---------+---+----------+------+\n",
      "|    Krish| 31|        10| 30000|\n",
      "|Sudhanshu| 30|         8| 25000|\n",
      "|    Sunny| 29|         4| 20000|\n",
      "|    Ankit| 45|         3| 15000|\n",
      "|    Anand| 32|         2| 20000|\n",
      "| Karishma| 24|         5| 18000|\n",
      "|   Suresh|  0|         0| 40000|\n",
      "|     null| 45|        10| 38000|\n",
      "|     null| 37|         0|     0|\n",
      "+---------+---+----------+------+\n",
      "\n"
     ]
    }
   ],
   "source": [
    "## Filling the missing values\n",
    "df_spark.na.fill(0).show()  # Only replace integer values"
   ]
  },
  {
   "cell_type": "code",
   "execution_count": 32,
   "metadata": {},
   "outputs": [
    {
     "name": "stdout",
     "output_type": "stream",
     "text": [
      "+--------------+----+----------+------+\n",
      "|          Name| age|experience|salary|\n",
      "+--------------+----+----------+------+\n",
      "|         Krish|  31|        10| 30000|\n",
      "|     Sudhanshu|  30|         8| 25000|\n",
      "|         Sunny|  29|         4| 20000|\n",
      "|         Ankit|  45|         3| 15000|\n",
      "|         Anand|  32|         2| 20000|\n",
      "|      Karishma|  24|         5| 18000|\n",
      "|        Suresh|null|      null| 40000|\n",
      "|Missing Values|  45|        10| 38000|\n",
      "|Missing Values|  37|      null|  null|\n",
      "+--------------+----+----------+------+\n",
      "\n"
     ]
    }
   ],
   "source": [
    "df_spark.na.fill('Missing Values').show()  # only fills missing string columns"
   ]
  },
  {
   "cell_type": "code",
   "execution_count": 34,
   "metadata": {},
   "outputs": [],
   "source": [
    "from pyspark.ml.feature import Imputer"
   ]
  },
  {
   "cell_type": "code",
   "execution_count": 39,
   "metadata": {},
   "outputs": [],
   "source": [
    "imputer = Imputer(\n",
    "inputCols = ['age', 'experience'],\n",
    "outputCols = [f\"{c}_imputed\" for c in ['age', 'experience']]\n",
    ").setStrategy(\"mean\")"
   ]
  },
  {
   "cell_type": "code",
   "execution_count": 40,
   "metadata": {},
   "outputs": [
    {
     "name": "stdout",
     "output_type": "stream",
     "text": [
      "+---------+----+----------+------+-----------+------------------+\n",
      "|     Name| age|experience|salary|age_imputed|experience_imputed|\n",
      "+---------+----+----------+------+-----------+------------------+\n",
      "|    Krish|  31|        10| 30000|         31|                10|\n",
      "|Sudhanshu|  30|         8| 25000|         30|                 8|\n",
      "|    Sunny|  29|         4| 20000|         29|                 4|\n",
      "|    Ankit|  45|         3| 15000|         45|                 3|\n",
      "|    Anand|  32|         2| 20000|         32|                 2|\n",
      "| Karishma|  24|         5| 18000|         24|                 5|\n",
      "|   Suresh|null|      null| 40000|         34|                 6|\n",
      "|     null|  45|        10| 38000|         45|                10|\n",
      "|     null|  37|      null|  null|         37|                 6|\n",
      "+---------+----+----------+------+-----------+------------------+\n",
      "\n"
     ]
    }
   ],
   "source": [
    "# Add imputed columns to df\n",
    "imputer.fit(df_spark).transform(df_spark).show()"
   ]
  },
  {
   "cell_type": "code",
   "execution_count": null,
   "metadata": {},
   "outputs": [],
   "source": []
  }
 ],
 "metadata": {
  "kernelspec": {
   "display_name": "Python3 (SparkEnv)",
   "language": "python",
   "name": "sparkenv"
  },
  "language_info": {
   "codemirror_mode": {
    "name": "ipython",
    "version": 3
   },
   "file_extension": ".py",
   "mimetype": "text/x-python",
   "name": "python",
   "nbconvert_exporter": "python",
   "pygments_lexer": "ipython3",
   "version": "3.8.5"
  }
 },
 "nbformat": 4,
 "nbformat_minor": 4
}
